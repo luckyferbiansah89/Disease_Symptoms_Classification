{
  "nbformat": 4,
  "nbformat_minor": 0,
  "metadata": {
    "colab": {
      "provenance": [],
      "authorship_tag": "ABX9TyPQBEkfourAuZYJ7dIduj/4",
      "include_colab_link": true
    },
    "kernelspec": {
      "name": "python3",
      "display_name": "Python 3"
    },
    "language_info": {
      "name": "python"
    }
  },
  "cells": [
    {
      "cell_type": "markdown",
      "metadata": {
        "id": "view-in-github",
        "colab_type": "text"
      },
      "source": [
        "<a href=\"https://colab.research.google.com/github/luckyferbiansah89/Disease_Symptoms_Classification/blob/main/TK2_Machine_Learning.ipynb\" target=\"_parent\"><img src=\"https://colab.research.google.com/assets/colab-badge.svg\" alt=\"Open In Colab\"/></a>"
      ]
    },
    {
      "cell_type": "code",
      "execution_count": 2,
      "metadata": {
        "id": "vdodD83nXHe3"
      },
      "outputs": [],
      "source": [
        "# ======================\n",
        "# 1. Import Library\n",
        "# ======================\n",
        "import pandas as pd\n",
        "import numpy as np\n",
        "import seaborn as sns\n",
        "import matplotlib.pyplot as plt\n",
        "\n",
        "from sklearn.preprocessing import LabelEncoder\n",
        "from sklearn.model_selection import train_test_split\n",
        "\n",
        "from sklearn.naive_bayes import GaussianNB\n",
        "from sklearn.tree import DecisionTreeClassifier\n",
        "from sklearn.svm import SVC\n",
        "from sklearn.ensemble import RandomForestClassifier\n",
        "from sklearn.metrics import classification_report, accuracy_score\n",
        "\n",
        "from tensorflow.keras.models import Sequential\n",
        "from tensorflow.keras.layers import Dense\n",
        "from tensorflow.keras.utils import to_categorical"
      ]
    },
    {
      "cell_type": "code",
      "source": [
        "from google.colab import drive\n",
        "drive.mount('/content/drive')"
      ],
      "metadata": {
        "id": "8i1iSj-tpTTq"
      },
      "execution_count": null,
      "outputs": []
    },
    {
      "cell_type": "code",
      "source": [
        "# ==========================\n",
        "# 1.1 Get Files From Github\n",
        "# ==========================\n",
        "!wget https://raw.githubusercontent.com/luckyferbiansah89/Disease_Symptoms_Classification/main/dataset/dataset.csv\n",
        "!wget https://raw.githubusercontent.com/luckyferbiansah89/Disease_Symptoms_Classification/main/dataset/Symptom-severity.csv"
      ],
      "metadata": {
        "colab": {
          "base_uri": "https://localhost:8080/"
        },
        "id": "uRitUNfvintY",
        "outputId": "44a7ff35-fe6e-45d9-d1c1-cec2873cb32f"
      },
      "execution_count": 7,
      "outputs": [
        {
          "output_type": "stream",
          "name": "stdout",
          "text": [
            "--2025-07-04 08:44:37--  https://raw.githubusercontent.com/luckyferbiansah89/Disease_Symptoms_Classification/main/dataset/dataset.csv\n",
            "Resolving raw.githubusercontent.com (raw.githubusercontent.com)... 185.199.108.133, 185.199.109.133, 185.199.110.133, ...\n",
            "Connecting to raw.githubusercontent.com (raw.githubusercontent.com)|185.199.108.133|:443... connected.\n",
            "HTTP request sent, awaiting response... 200 OK\n",
            "Length: 632202 (617K) [text/plain]\n",
            "Saving to: ‘dataset.csv’\n",
            "\n",
            "\rdataset.csv           0%[                    ]       0  --.-KB/s               \rdataset.csv         100%[===================>] 617.38K  --.-KB/s    in 0.07s   \n",
            "\n",
            "2025-07-04 08:44:37 (8.87 MB/s) - ‘dataset.csv’ saved [632202/632202]\n",
            "\n",
            "--2025-07-04 08:44:37--  https://raw.githubusercontent.com/luckyferbiansah89/Disease_Symptoms_Classification/main/dataset/Symptom-severity.csv\n",
            "Resolving raw.githubusercontent.com (raw.githubusercontent.com)... 185.199.108.133, 185.199.109.133, 185.199.110.133, ...\n",
            "Connecting to raw.githubusercontent.com (raw.githubusercontent.com)|185.199.108.133|:443... connected.\n",
            "HTTP request sent, awaiting response... 200 OK\n",
            "Length: 2332 (2.3K) [text/plain]\n",
            "Saving to: ‘Symptom-severity.csv’\n",
            "\n",
            "Symptom-severity.cs 100%[===================>]   2.28K  --.-KB/s    in 0s      \n",
            "\n",
            "2025-07-04 08:44:37 (41.0 MB/s) - ‘Symptom-severity.csv’ saved [2332/2332]\n",
            "\n"
          ]
        }
      ]
    },
    {
      "cell_type": "code",
      "source": [
        "# ========================================\n",
        "# 2 Load Dataset and check for duplicate\n",
        "# ========================================\n",
        "\n",
        "# Load dataset utama\n",
        "df_raw = pd.read_csv(\"/content/dataset.csv\")\n",
        "\n",
        "# count number of rows\n",
        "print('Number of Rows : ',len(df_raw))\n",
        "\n",
        "# Check Duplicate data\n",
        "print('Duplicate of Rows : ',df_raw.duplicated().sum())"
      ],
      "metadata": {
        "colab": {
          "base_uri": "https://localhost:8080/"
        },
        "id": "YYde5miPxB9Y",
        "outputId": "56732eaf-71e7-4d60-d62c-482602d69b23"
      },
      "execution_count": 11,
      "outputs": [
        {
          "output_type": "stream",
          "name": "stdout",
          "text": [
            "Number of Rows :  4920\n",
            "Duplicate of Rows :  4616\n"
          ]
        }
      ]
    },
    {
      "cell_type": "code",
      "source": [
        "# ==================================================\n",
        "# 2.1 Data preprocessing to remove duplicate data\n",
        "# ==================================================\n",
        "df = df_raw.drop_duplicates().copy()\n",
        "\n",
        "print(\"Sebelum:\", df_raw.shape)\n",
        "print(\"Setelah:\", df.shape)"
      ],
      "metadata": {
        "colab": {
          "base_uri": "https://localhost:8080/"
        },
        "id": "n4u_qjWMZupU",
        "outputId": "8d0d9aa2-26ca-4a63-a89b-c15595d1d27d"
      },
      "execution_count": 16,
      "outputs": [
        {
          "output_type": "stream",
          "name": "stdout",
          "text": [
            "Sebelum: (4920, 18)\n",
            "Setelah: (304, 18)\n"
          ]
        }
      ]
    },
    {
      "cell_type": "code",
      "source": [
        "# =============================================\n",
        "# 2.2 Data Preprocessing to one-hot encoding\n",
        "# =============================================\n",
        "\n",
        "# load dataset severity table\n",
        "severity = pd.read_csv(\"/content/Symptom-severity.csv\")\n",
        "\n",
        "# Preprocessing\n",
        "df.fillna('', inplace=True)\n",
        "symptom_cols = [col for col in df.columns if \"Symptom\" in col]\n",
        "\n",
        "# Buat mapping: nama gejala → severity\n",
        "severity['Symptom'] = severity['Symptom'].str.strip().str.lower()\n",
        "severity_dict = dict(zip(severity['Symptom'], severity['weight']))\n",
        "\n",
        "# Normalisasi input (kolom symptom)\n",
        "for col in symptom_cols:\n",
        "    df[col] = df[col].str.strip().str.lower()\n",
        "\n",
        "# Buat list unik semua symptom dari seluruh kolom\n",
        "all_symptoms = sorted(set(\n",
        "    s for col in symptom_cols for s in df[col].unique() if s != ''\n",
        "))\n",
        "\n",
        "# Buat dataframe baru: setiap kolom = nama symptom, value = severity\n",
        "X_severity = pd.DataFrame(0, index=df.index, columns=all_symptoms)\n",
        "\n",
        "# Isi dataframe dengan severity\n",
        "for i, row in df.iterrows():\n",
        "    for col in symptom_cols:\n",
        "        sym = row[col]\n",
        "        if sym in severity_dict:\n",
        "            X_severity.loc[i, sym] = severity_dict[sym]\n",
        "\n",
        "# Tambahkan target\n",
        "X_severity['prognosis'] = df['Disease']\n",
        "\n",
        "# Simpan ke file\n",
        "#X_severity.to_csv(\"symptom_disease_severity.csv\", index=False)\n",
        "#print(\"✅ Data severity-based saved to symptom_disease_severity.csv\")"
      ],
      "metadata": {
        "id": "ejNY96bWZjWD"
      },
      "execution_count": 17,
      "outputs": []
    },
    {
      "cell_type": "code",
      "source": [
        "# ======================\n",
        "# 3. Tinjau Dataset\n",
        "# ======================\n",
        "print(\"Shape:\", X_severity.shape)\n",
        "print(\"Columns:\", X_severity.columns.tolist())\n",
        "print(\"\\nPreview:\\n\", X_severity.head())"
      ],
      "metadata": {
        "colab": {
          "base_uri": "https://localhost:8080/"
        },
        "id": "mRGBNKozZn_f",
        "outputId": "8aa25d6f-c1a3-4fcf-ec2c-b4cc06a90723"
      },
      "execution_count": 18,
      "outputs": [
        {
          "output_type": "stream",
          "name": "stdout",
          "text": [
            "Shape: (304, 132)\n",
            "Columns: ['abdominal_pain', 'abnormal_menstruation', 'acidity', 'acute_liver_failure', 'altered_sensorium', 'anxiety', 'back_pain', 'belly_pain', 'blackheads', 'bladder_discomfort', 'blister', 'blood_in_sputum', 'bloody_stool', 'blurred_and_distorted_vision', 'breathlessness', 'brittle_nails', 'bruising', 'burning_micturition', 'chest_pain', 'chills', 'cold_hands_and_feets', 'coma', 'congestion', 'constipation', 'continuous_feel_of_urine', 'continuous_sneezing', 'cough', 'cramps', 'dark_urine', 'dehydration', 'depression', 'diarrhoea', 'dischromic _patches', 'distention_of_abdomen', 'dizziness', 'drying_and_tingling_lips', 'enlarged_thyroid', 'excessive_hunger', 'extra_marital_contacts', 'family_history', 'fast_heart_rate', 'fatigue', 'fluid_overload', 'foul_smell_of urine', 'headache', 'high_fever', 'hip_joint_pain', 'history_of_alcohol_consumption', 'increased_appetite', 'indigestion', 'inflammatory_nails', 'internal_itching', 'irregular_sugar_level', 'irritability', 'irritation_in_anus', 'itching', 'joint_pain', 'knee_pain', 'lack_of_concentration', 'lethargy', 'loss_of_appetite', 'loss_of_balance', 'loss_of_smell', 'malaise', 'mild_fever', 'mood_swings', 'movement_stiffness', 'mucoid_sputum', 'muscle_pain', 'muscle_wasting', 'muscle_weakness', 'nausea', 'neck_pain', 'nodal_skin_eruptions', 'obesity', 'pain_behind_the_eyes', 'pain_during_bowel_movements', 'pain_in_anal_region', 'painful_walking', 'palpitations', 'passage_of_gases', 'patches_in_throat', 'phlegm', 'polyuria', 'prominent_veins_on_calf', 'puffy_face_and_eyes', 'pus_filled_pimples', 'receiving_blood_transfusion', 'receiving_unsterile_injections', 'red_sore_around_nose', 'red_spots_over_body', 'redness_of_eyes', 'restlessness', 'runny_nose', 'rusty_sputum', 'scurring', 'shivering', 'silver_like_dusting', 'sinus_pressure', 'skin_peeling', 'skin_rash', 'slurred_speech', 'small_dents_in_nails', 'spinning_movements', 'spotting_ urination', 'stiff_neck', 'stomach_bleeding', 'stomach_pain', 'sunken_eyes', 'sweating', 'swelled_lymph_nodes', 'swelling_joints', 'swelling_of_stomach', 'swollen_blood_vessels', 'swollen_extremeties', 'swollen_legs', 'throat_irritation', 'toxic_look_(typhos)', 'ulcers_on_tongue', 'unsteadiness', 'visual_disturbances', 'vomiting', 'watering_from_eyes', 'weakness_in_limbs', 'weakness_of_one_body_side', 'weight_gain', 'weight_loss', 'yellow_crust_ooze', 'yellow_urine', 'yellowing_of_eyes', 'yellowish_skin', 'prognosis']\n",
            "\n",
            "Preview:\n",
            "    abdominal_pain  abnormal_menstruation  acidity  acute_liver_failure  \\\n",
            "0               0                      0        0                    0   \n",
            "1               0                      0        0                    0   \n",
            "2               0                      0        0                    0   \n",
            "3               0                      0        0                    0   \n",
            "4               0                      0        0                    0   \n",
            "\n",
            "   altered_sensorium  anxiety  back_pain  belly_pain  blackheads  \\\n",
            "0                  0        0          0           0           0   \n",
            "1                  0        0          0           0           0   \n",
            "2                  0        0          0           0           0   \n",
            "3                  0        0          0           0           0   \n",
            "4                  0        0          0           0           0   \n",
            "\n",
            "   bladder_discomfort  ...  watering_from_eyes  weakness_in_limbs  \\\n",
            "0                   0  ...                   0                  0   \n",
            "1                   0  ...                   0                  0   \n",
            "2                   0  ...                   0                  0   \n",
            "3                   0  ...                   0                  0   \n",
            "4                   0  ...                   0                  0   \n",
            "\n",
            "   weakness_of_one_body_side  weight_gain  weight_loss  yellow_crust_ooze  \\\n",
            "0                          0            0            0                  0   \n",
            "1                          0            0            0                  0   \n",
            "2                          0            0            0                  0   \n",
            "3                          0            0            0                  0   \n",
            "4                          0            0            0                  0   \n",
            "\n",
            "   yellow_urine  yellowing_of_eyes  yellowish_skin         prognosis  \n",
            "0             0                  0               0  Fungal infection  \n",
            "1             0                  0               0  Fungal infection  \n",
            "2             0                  0               0  Fungal infection  \n",
            "3             0                  0               0  Fungal infection  \n",
            "4             0                  0               0  Fungal infection  \n",
            "\n",
            "[5 rows x 132 columns]\n"
          ]
        }
      ]
    },
    {
      "cell_type": "code",
      "source": [
        "# ======================\n",
        "# 4. Cek Missing Value\n",
        "# ======================\n",
        "print(\"\\nMissing Values:\\n\", X_severity.isnull().sum().sort_values(ascending=False))"
      ],
      "metadata": {
        "colab": {
          "base_uri": "https://localhost:8080/"
        },
        "id": "im7ANuaiZrTi",
        "outputId": "5f954adb-f557-436e-ef3d-8182f6ba05c0"
      },
      "execution_count": 19,
      "outputs": [
        {
          "output_type": "stream",
          "name": "stdout",
          "text": [
            "\n",
            "Missing Values:\n",
            " abdominal_pain           0\n",
            "abnormal_menstruation    0\n",
            "acidity                  0\n",
            "acute_liver_failure      0\n",
            "altered_sensorium        0\n",
            "                        ..\n",
            "yellow_crust_ooze        0\n",
            "yellow_urine             0\n",
            "yellowing_of_eyes        0\n",
            "yellowish_skin           0\n",
            "prognosis                0\n",
            "Length: 132, dtype: int64\n"
          ]
        }
      ]
    },
    {
      "cell_type": "code",
      "source": [
        "# =============================\n",
        "# 5. Pisahkan Fitur dan Label\n",
        "# =============================\n",
        "X = X_severity.drop(columns=['prognosis'])  # semua kolom gejala\n",
        "y = X_severity['prognosis']                # label penyakit"
      ],
      "metadata": {
        "id": "eCYpUbm3ZuE0"
      },
      "execution_count": 20,
      "outputs": []
    },
    {
      "cell_type": "code",
      "source": [
        "# =================================\n",
        "# 6. Label Encoding untuk target\n",
        "# =================================\n",
        "le = LabelEncoder()\n",
        "y_encoded = le.fit_transform(y)\n",
        "\n",
        "print(\"\\nLabel penyakit:\\n\", list(le.classes_))\n",
        "print(\"Jumlah kelas penyakit:\", len(le.classes_))"
      ],
      "metadata": {
        "colab": {
          "base_uri": "https://localhost:8080/"
        },
        "id": "ECEaGu0eZ1aO",
        "outputId": "07082c7c-619e-48e4-a884-3352fa46ede5"
      },
      "execution_count": 22,
      "outputs": [
        {
          "output_type": "stream",
          "name": "stdout",
          "text": [
            "\n",
            "Label penyakit:\n",
            " ['(vertigo) Paroymsal  Positional Vertigo', 'AIDS', 'Acne', 'Alcoholic hepatitis', 'Allergy', 'Arthritis', 'Bronchial Asthma', 'Cervical spondylosis', 'Chicken pox', 'Chronic cholestasis', 'Common Cold', 'Dengue', 'Diabetes ', 'Dimorphic hemmorhoids(piles)', 'Drug Reaction', 'Fungal infection', 'GERD', 'Gastroenteritis', 'Heart attack', 'Hepatitis B', 'Hepatitis C', 'Hepatitis D', 'Hepatitis E', 'Hypertension ', 'Hyperthyroidism', 'Hypoglycemia', 'Hypothyroidism', 'Impetigo', 'Jaundice', 'Malaria', 'Migraine', 'Osteoarthristis', 'Paralysis (brain hemorrhage)', 'Peptic ulcer diseae', 'Pneumonia', 'Psoriasis', 'Tuberculosis', 'Typhoid', 'Urinary tract infection', 'Varicose veins', 'hepatitis A']\n",
            "Jumlah kelas penyakit: 41\n"
          ]
        }
      ]
    },
    {
      "cell_type": "code",
      "source": [
        "# ======================\n",
        "# 7. Split Data\n",
        "# ======================\n",
        "X_train, X_test, y_train, y_test = train_test_split(X, y_encoded, test_size=0.2, random_state=42)\n",
        "\n",
        "print(\"\\nTraining size:\", X_train.shape)\n",
        "print(\"Testing size:\", X_test.shape)"
      ],
      "metadata": {
        "colab": {
          "base_uri": "https://localhost:8080/"
        },
        "id": "8eG_hKmSZ-XF",
        "outputId": "07cc5a33-e606-49fd-c7c9-2ccca308a7c8"
      },
      "execution_count": 23,
      "outputs": [
        {
          "output_type": "stream",
          "name": "stdout",
          "text": [
            "\n",
            "Training size: (243, 131)\n",
            "Testing size: (61, 131)\n"
          ]
        }
      ]
    },
    {
      "cell_type": "code",
      "source": [
        "# ======================\n",
        "# 8. Statistik Gejala\n",
        "# ======================\n",
        "gejala_sum = X.sum().sort_values(ascending=False)\n",
        "top10_gejala = gejala_sum.head(10)\n",
        "\n",
        "plt.figure(figsize=(10,6))\n",
        "sns.barplot(x=top10_gejala.values, y=top10_gejala.index)\n",
        "plt.title(\"10 Gejala yang Paling Sering Muncul\")\n",
        "plt.xlabel(\"Jumlah Pasien\")\n",
        "plt.ylabel(\"Gejala\")\n",
        "plt.tight_layout()\n",
        "plt.show()"
      ],
      "metadata": {
        "colab": {
          "base_uri": "https://localhost:8080/",
          "height": 607
        },
        "id": "aS3t5PhFaIR1",
        "outputId": "983e72ce-636c-4e4b-991c-c832b8a0b457"
      },
      "execution_count": 24,
      "outputs": [
        {
          "output_type": "display_data",
          "data": {
            "text/plain": [
              "<Figure size 1000x600 with 1 Axes>"
            ],
            "image/png": "[encoded data removed]"
          },
          "metadata": {}
        }
      ]
    },
    {
      "cell_type": "code",
      "source": [],
      "metadata": {
        "id": "Jwl91xj-5Zg3"
      },
      "execution_count": null,
      "outputs": []
    },
    {
      "cell_type": "code",
      "source": [
        "# ======================\n",
        "# 10. Naive Bayes Classifier\n",
        "# ======================\n",
        "print(\"\\n=== Naive Bayes ===\")\n",
        "nb = GaussianNB()\n",
        "nb.fit(X_train, y_train)\n",
        "y_pred_nb = nb.predict(X_test)\n",
        "print(\"Accuracy:\", accuracy_score(y_test, y_pred_nb))\n",
        "# Fix: Use unique labels from y_test for classification_report\n",
        "print(classification_report(y_test, y_pred_nb, target_names=le.classes_[np.unique(y_test)], labels=np.unique(y_test)))"
      ],
      "metadata": {
        "colab": {
          "base_uri": "https://localhost:8080/"
        },
        "id": "m2SXl0PBaLnK",
        "outputId": "d57d2495-69b0-4d49-e516-031a9a82330a"
      },
      "execution_count": 25,
      "outputs": [
        {
          "output_type": "stream",
          "name": "stdout",
          "text": [
            "\n",
            "=== Naive Bayes ===\n",
            "Accuracy: 0.9672131147540983\n",
            "                                         precision    recall  f1-score   support\n",
            "\n",
            "(vertigo) Paroymsal  Positional Vertigo       1.00      1.00      1.00         2\n",
            "                                   AIDS       1.00      1.00      1.00         1\n",
            "                                   Acne       1.00      1.00      1.00         3\n",
            "                    Alcoholic hepatitis       1.00      1.00      1.00         1\n",
            "                                Allergy       1.00      1.00      1.00         3\n",
            "                       Bronchial Asthma       1.00      0.67      0.80         3\n",
            "                   Cervical spondylosis       0.00      0.00      0.00         1\n",
            "                            Chicken pox       1.00      1.00      1.00         3\n",
            "                    Chronic cholestasis       1.00      1.00      1.00         2\n",
            "                                 Dengue       1.00      1.00      1.00         3\n",
            "                              Diabetes        1.00      1.00      1.00         2\n",
            "           Dimorphic hemmorhoids(piles)       1.00      1.00      1.00         2\n",
            "                          Drug Reaction       1.00      1.00      1.00         1\n",
            "                            Hepatitis B       1.00      1.00      1.00         2\n",
            "                            Hepatitis C       0.50      1.00      0.67         1\n",
            "                            Hepatitis D       1.00      1.00      1.00         1\n",
            "                            Hepatitis E       1.00      1.00      1.00         2\n",
            "                        Hyperthyroidism       1.00      1.00      1.00         2\n",
            "                           Hypoglycemia       1.00      1.00      1.00         3\n",
            "                         Hypothyroidism       1.00      1.00      1.00         2\n",
            "                               Impetigo       1.00      1.00      1.00         1\n",
            "                               Jaundice       1.00      1.00      1.00         1\n",
            "                                Malaria       1.00      1.00      1.00         2\n",
            "                               Migraine       1.00      1.00      1.00         4\n",
            "           Paralysis (brain hemorrhage)       1.00      1.00      1.00         1\n",
            "                    Peptic ulcer diseae       1.00      1.00      1.00         1\n",
            "                              Pneumonia       1.00      1.00      1.00         2\n",
            "                              Psoriasis       1.00      1.00      1.00         1\n",
            "                           Tuberculosis       1.00      1.00      1.00         2\n",
            "                Urinary tract infection       1.00      1.00      1.00         1\n",
            "                         Varicose veins       1.00      1.00      1.00         3\n",
            "                            hepatitis A       1.00      1.00      1.00         2\n",
            "\n",
            "                              micro avg       0.98      0.97      0.98        61\n",
            "                              macro avg       0.95      0.96      0.95        61\n",
            "                           weighted avg       0.98      0.97      0.97        61\n",
            "\n"
          ]
        },
        {
          "output_type": "stream",
          "name": "stderr",
          "text": [
            "/usr/local/lib/python3.11/dist-packages/sklearn/metrics/_classification.py:1565: UndefinedMetricWarning: Precision is ill-defined and being set to 0.0 in labels with no predicted samples. Use `zero_division` parameter to control this behavior.\n",
            "  _warn_prf(average, modifier, f\"{metric.capitalize()} is\", len(result))\n",
            "/usr/local/lib/python3.11/dist-packages/sklearn/metrics/_classification.py:1565: UndefinedMetricWarning: Precision is ill-defined and being set to 0.0 in labels with no predicted samples. Use `zero_division` parameter to control this behavior.\n",
            "  _warn_prf(average, modifier, f\"{metric.capitalize()} is\", len(result))\n",
            "/usr/local/lib/python3.11/dist-packages/sklearn/metrics/_classification.py:1565: UndefinedMetricWarning: Precision is ill-defined and being set to 0.0 in labels with no predicted samples. Use `zero_division` parameter to control this behavior.\n",
            "  _warn_prf(average, modifier, f\"{metric.capitalize()} is\", len(result))\n"
          ]
        }
      ]
    },
    {
      "cell_type": "code",
      "source": [
        "# ======================\n",
        "# 11. Decision Tree Classifier\n",
        "# ======================\n",
        "print(\"\\n=== Decision Tree ===\")\n",
        "dt = DecisionTreeClassifier(random_state=42)\n",
        "dt.fit(X_train, y_train)\n",
        "y_pred_dt = dt.predict(X_test)\n",
        "print(\"Accuracy:\", accuracy_score(y_test, y_pred_dt))\n",
        "print(classification_report(y_test, y_pred_dt, target_names=le.classes_[np.unique(y_test)], labels=np.unique(y_test)))"
      ],
      "metadata": {
        "colab": {
          "base_uri": "https://localhost:8080/"
        },
        "id": "lrDbeObmabbU",
        "outputId": "fa99da80-8091-4816-bd74-21f9f89b54aa"
      },
      "execution_count": 26,
      "outputs": [
        {
          "output_type": "stream",
          "name": "stdout",
          "text": [
            "\n",
            "=== Decision Tree ===\n",
            "Accuracy: 0.6721311475409836\n",
            "                                         precision    recall  f1-score   support\n",
            "\n",
            "(vertigo) Paroymsal  Positional Vertigo       1.00      0.50      0.67         2\n",
            "                                   AIDS       0.00      0.00      0.00         1\n",
            "                                   Acne       1.00      0.67      0.80         3\n",
            "                    Alcoholic hepatitis       0.00      0.00      0.00         1\n",
            "                                Allergy       1.00      0.67      0.80         3\n",
            "                       Bronchial Asthma       1.00      0.67      0.80         3\n",
            "                   Cervical spondylosis       0.00      0.00      0.00         1\n",
            "                            Chicken pox       1.00      1.00      1.00         3\n",
            "                    Chronic cholestasis       0.50      0.50      0.50         2\n",
            "                                 Dengue       1.00      1.00      1.00         3\n",
            "                              Diabetes        1.00      1.00      1.00         2\n",
            "           Dimorphic hemmorhoids(piles)       1.00      0.50      0.67         2\n",
            "                          Drug Reaction       0.50      1.00      0.67         1\n",
            "                            Hepatitis B       1.00      0.50      0.67         2\n",
            "                            Hepatitis C       0.00      0.00      0.00         1\n",
            "                            Hepatitis D       0.00      0.00      0.00         1\n",
            "                            Hepatitis E       1.00      1.00      1.00         2\n",
            "                        Hyperthyroidism       1.00      0.50      0.67         2\n",
            "                           Hypoglycemia       1.00      1.00      1.00         3\n",
            "                         Hypothyroidism       1.00      1.00      1.00         2\n",
            "                               Impetigo       0.00      0.00      0.00         1\n",
            "                               Jaundice       0.00      0.00      0.00         1\n",
            "                                Malaria       1.00      1.00      1.00         2\n",
            "                               Migraine       1.00      0.75      0.86         4\n",
            "           Paralysis (brain hemorrhage)       0.00      0.00      0.00         1\n",
            "                    Peptic ulcer diseae       1.00      1.00      1.00         1\n",
            "                              Pneumonia       0.67      1.00      0.80         2\n",
            "                              Psoriasis       0.00      0.00      0.00         1\n",
            "                           Tuberculosis       1.00      1.00      1.00         2\n",
            "                Urinary tract infection       0.00      0.00      0.00         1\n",
            "                         Varicose veins       1.00      0.67      0.80         3\n",
            "                            hepatitis A       1.00      1.00      1.00         2\n",
            "\n",
            "                              micro avg       0.84      0.67      0.75        61\n",
            "                              macro avg       0.65      0.56      0.58        61\n",
            "                           weighted avg       0.80      0.67      0.72        61\n",
            "\n"
          ]
        },
        {
          "output_type": "stream",
          "name": "stderr",
          "text": [
            "/usr/local/lib/python3.11/dist-packages/sklearn/metrics/_classification.py:1565: UndefinedMetricWarning: Precision is ill-defined and being set to 0.0 in labels with no predicted samples. Use `zero_division` parameter to control this behavior.\n",
            "  _warn_prf(average, modifier, f\"{metric.capitalize()} is\", len(result))\n",
            "/usr/local/lib/python3.11/dist-packages/sklearn/metrics/_classification.py:1565: UndefinedMetricWarning: Precision is ill-defined and being set to 0.0 in labels with no predicted samples. Use `zero_division` parameter to control this behavior.\n",
            "  _warn_prf(average, modifier, f\"{metric.capitalize()} is\", len(result))\n",
            "/usr/local/lib/python3.11/dist-packages/sklearn/metrics/_classification.py:1565: UndefinedMetricWarning: Precision is ill-defined and being set to 0.0 in labels with no predicted samples. Use `zero_division` parameter to control this behavior.\n",
            "  _warn_prf(average, modifier, f\"{metric.capitalize()} is\", len(result))\n"
          ]
        }
      ]
    },
    {
      "cell_type": "code",
      "source": [
        "# ===========================\n",
        "# 12. Support Vector Machine\n",
        "# ===========================\n",
        "print(\"\\n=== SVM (Linear Kernel) ===\")\n",
        "svm = SVC(kernel='linear')\n",
        "svm.fit(X_train, y_train)\n",
        "y_pred_svm = svm.predict(X_test)\n",
        "print(\"Accuracy:\", accuracy_score(y_test, y_pred_svm))\n",
        "print(classification_report(y_test, y_pred_svm, target_names=le.classes_[np.unique(y_test)], labels=np.unique(y_test)))"
      ],
      "metadata": {
        "colab": {
          "base_uri": "https://localhost:8080/"
        },
        "id": "jes8wd91ad_n",
        "outputId": "0515787b-f5e6-4ff0-f8c0-f76f9e4db86b"
      },
      "execution_count": 27,
      "outputs": [
        {
          "output_type": "stream",
          "name": "stdout",
          "text": [
            "\n",
            "=== SVM (Linear Kernel) ===\n",
            "Accuracy: 0.9508196721311475\n",
            "                                         precision    recall  f1-score   support\n",
            "\n",
            "(vertigo) Paroymsal  Positional Vertigo       1.00      1.00      1.00         2\n",
            "                                   AIDS       1.00      1.00      1.00         1\n",
            "                                   Acne       1.00      1.00      1.00         3\n",
            "                    Alcoholic hepatitis       1.00      1.00      1.00         1\n",
            "                                Allergy       1.00      1.00      1.00         3\n",
            "                       Bronchial Asthma       1.00      1.00      1.00         3\n",
            "                   Cervical spondylosis       0.00      0.00      0.00         1\n",
            "                            Chicken pox       1.00      1.00      1.00         3\n",
            "                    Chronic cholestasis       0.67      1.00      0.80         2\n",
            "                                 Dengue       1.00      1.00      1.00         3\n",
            "                              Diabetes        1.00      1.00      1.00         2\n",
            "           Dimorphic hemmorhoids(piles)       1.00      1.00      1.00         2\n",
            "                          Drug Reaction       0.50      1.00      0.67         1\n",
            "                            Hepatitis B       1.00      1.00      1.00         2\n",
            "                            Hepatitis C       0.00      0.00      0.00         1\n",
            "                            Hepatitis D       1.00      1.00      1.00         1\n",
            "                            Hepatitis E       1.00      1.00      1.00         2\n",
            "                        Hyperthyroidism       1.00      1.00      1.00         2\n",
            "                           Hypoglycemia       1.00      1.00      1.00         3\n",
            "                         Hypothyroidism       1.00      1.00      1.00         2\n",
            "                               Impetigo       1.00      1.00      1.00         1\n",
            "                               Jaundice       1.00      1.00      1.00         1\n",
            "                                Malaria       1.00      1.00      1.00         2\n",
            "                               Migraine       1.00      1.00      1.00         4\n",
            "           Paralysis (brain hemorrhage)       1.00      1.00      1.00         1\n",
            "                    Peptic ulcer diseae       1.00      1.00      1.00         1\n",
            "                              Pneumonia       1.00      1.00      1.00         2\n",
            "                              Psoriasis       1.00      1.00      1.00         1\n",
            "                           Tuberculosis       1.00      1.00      1.00         2\n",
            "                Urinary tract infection       0.00      0.00      0.00         1\n",
            "                         Varicose veins       1.00      1.00      1.00         3\n",
            "                            hepatitis A       1.00      1.00      1.00         2\n",
            "\n",
            "                              micro avg       0.97      0.95      0.96        61\n",
            "                              macro avg       0.88      0.91      0.89        61\n",
            "                           weighted avg       0.93      0.95      0.94        61\n",
            "\n"
          ]
        },
        {
          "output_type": "stream",
          "name": "stderr",
          "text": [
            "/usr/local/lib/python3.11/dist-packages/sklearn/metrics/_classification.py:1565: UndefinedMetricWarning: Precision is ill-defined and being set to 0.0 in labels with no predicted samples. Use `zero_division` parameter to control this behavior.\n",
            "  _warn_prf(average, modifier, f\"{metric.capitalize()} is\", len(result))\n",
            "/usr/local/lib/python3.11/dist-packages/sklearn/metrics/_classification.py:1565: UndefinedMetricWarning: Precision is ill-defined and being set to 0.0 in labels with no predicted samples. Use `zero_division` parameter to control this behavior.\n",
            "  _warn_prf(average, modifier, f\"{metric.capitalize()} is\", len(result))\n",
            "/usr/local/lib/python3.11/dist-packages/sklearn/metrics/_classification.py:1565: UndefinedMetricWarning: Precision is ill-defined and being set to 0.0 in labels with no predicted samples. Use `zero_division` parameter to control this behavior.\n",
            "  _warn_prf(average, modifier, f\"{metric.capitalize()} is\", len(result))\n"
          ]
        }
      ]
    },
    {
      "cell_type": "code",
      "source": [
        "# ======================\n",
        "# 13. Random Forest Classifier\n",
        "# ======================\n",
        "print(\"\\n=== Random Forest ===\")\n",
        "rf = RandomForestClassifier(n_estimators=100, random_state=42)\n",
        "rf.fit(X_train, y_train)\n",
        "y_pred_rf = rf.predict(X_test)\n",
        "print(\"Accuracy:\", accuracy_score(y_test, y_pred_rf))\n",
        "print(classification_report(y_test, y_pred_rf, target_names=le.classes_[np.unique(y_test)], labels=np.unique(y_test)))"
      ],
      "metadata": {
        "colab": {
          "base_uri": "https://localhost:8080/"
        },
        "id": "KcWNNsMfahov",
        "outputId": "26d5d553-e01c-449e-a92b-0cde13ab4452"
      },
      "execution_count": 28,
      "outputs": [
        {
          "output_type": "stream",
          "name": "stdout",
          "text": [
            "\n",
            "=== Random Forest ===\n",
            "Accuracy: 1.0\n",
            "                                         precision    recall  f1-score   support\n",
            "\n",
            "(vertigo) Paroymsal  Positional Vertigo       1.00      1.00      1.00         2\n",
            "                                   AIDS       1.00      1.00      1.00         1\n",
            "                                   Acne       1.00      1.00      1.00         3\n",
            "                    Alcoholic hepatitis       1.00      1.00      1.00         1\n",
            "                                Allergy       1.00      1.00      1.00         3\n",
            "                       Bronchial Asthma       1.00      1.00      1.00         3\n",
            "                   Cervical spondylosis       1.00      1.00      1.00         1\n",
            "                            Chicken pox       1.00      1.00      1.00         3\n",
            "                    Chronic cholestasis       1.00      1.00      1.00         2\n",
            "                                 Dengue       1.00      1.00      1.00         3\n",
            "                              Diabetes        1.00      1.00      1.00         2\n",
            "           Dimorphic hemmorhoids(piles)       1.00      1.00      1.00         2\n",
            "                          Drug Reaction       1.00      1.00      1.00         1\n",
            "                            Hepatitis B       1.00      1.00      1.00         2\n",
            "                            Hepatitis C       1.00      1.00      1.00         1\n",
            "                            Hepatitis D       1.00      1.00      1.00         1\n",
            "                            Hepatitis E       1.00      1.00      1.00         2\n",
            "                        Hyperthyroidism       1.00      1.00      1.00         2\n",
            "                           Hypoglycemia       1.00      1.00      1.00         3\n",
            "                         Hypothyroidism       1.00      1.00      1.00         2\n",
            "                               Impetigo       1.00      1.00      1.00         1\n",
            "                               Jaundice       1.00      1.00      1.00         1\n",
            "                                Malaria       1.00      1.00      1.00         2\n",
            "                               Migraine       1.00      1.00      1.00         4\n",
            "           Paralysis (brain hemorrhage)       1.00      1.00      1.00         1\n",
            "                    Peptic ulcer diseae       1.00      1.00      1.00         1\n",
            "                              Pneumonia       1.00      1.00      1.00         2\n",
            "                              Psoriasis       1.00      1.00      1.00         1\n",
            "                           Tuberculosis       1.00      1.00      1.00         2\n",
            "                Urinary tract infection       1.00      1.00      1.00         1\n",
            "                         Varicose veins       1.00      1.00      1.00         3\n",
            "                            hepatitis A       1.00      1.00      1.00         2\n",
            "\n",
            "                               accuracy                           1.00        61\n",
            "                              macro avg       1.00      1.00      1.00        61\n",
            "                           weighted avg       1.00      1.00      1.00        61\n",
            "\n"
          ]
        }
      ]
    },
    {
      "cell_type": "code",
      "source": [
        "# =========================================\n",
        "# 14. ANN (Artificial Neural Network)\n",
        "# =========================================\n",
        "print(\"\\n=== ANN (Neural Network) ===\")\n",
        "# One-hot encoding target\n",
        "y_train_cat = to_categorical(y_train)\n",
        "y_test_cat = to_categorical(y_test)\n",
        "\n",
        "model = Sequential()\n",
        "model.add(Dense(128, input_dim=X_train.shape[1], activation='relu'))\n",
        "model.add(Dense(64, activation='relu'))\n",
        "model.add(Dense(y_train_cat.shape[1], activation='softmax'))\n",
        "\n",
        "model.compile(loss='categorical_crossentropy', optimizer='adam', metrics=['accuracy'])\n",
        "history = model.fit(X_train, y_train_cat, epochs=30, batch_size=16, verbose=0, validation_split=0.2)\n",
        "loss, accuracy = model.evaluate(X_test, y_test_cat, verbose=0)\n",
        "print(f\"ANN Accuracy: {accuracy:.4f}\")"
      ],
      "metadata": {
        "colab": {
          "base_uri": "https://localhost:8080/"
        },
        "id": "E_vgBj67ajND",
        "outputId": "dede64fe-8d55-4312-83c7-1ed89651e687"
      },
      "execution_count": 30,
      "outputs": [
        {
          "output_type": "stream",
          "name": "stdout",
          "text": [
            "\n",
            "=== ANN (Neural Network) ===\n"
          ]
        },
        {
          "output_type": "stream",
          "name": "stderr",
          "text": [
            "/usr/local/lib/python3.11/dist-packages/keras/src/layers/core/dense.py:87: UserWarning: Do not pass an `input_shape`/`input_dim` argument to a layer. When using Sequential models, prefer using an `Input(shape)` object as the first layer in the model instead.\n",
            "  super().__init__(activity_regularizer=activity_regularizer, **kwargs)\n"
          ]
        },
        {
          "output_type": "stream",
          "name": "stdout",
          "text": [
            "ANN Accuracy: 1.0000\n"
          ]
        }
      ]
    },
    {
      "cell_type": "code",
      "source": [
        "# ======================\n",
        "# 15. Simpan Hasil Akurasi Semua Model\n",
        "# ======================\n",
        "model_accuracies = {\n",
        "    'Naive Bayes': accuracy_score(y_test, y_pred_nb),\n",
        "    'Decision Tree': accuracy_score(y_test, y_pred_dt),\n",
        "    'SVM': accuracy_score(y_test, y_pred_svm),\n",
        "    'Random Forest': accuracy_score(y_test, y_pred_rf),\n",
        "    'ANN': accuracy\n",
        "}"
      ],
      "metadata": {
        "id": "pA_qEVuM059o"
      },
      "execution_count": 31,
      "outputs": []
    },
    {
      "cell_type": "code",
      "source": [
        "# ======================\n",
        "# 16. Visualisasi Akurasi Model\n",
        "# ======================\n",
        "plt.figure(figsize=(10, 6))\n",
        "ax = sns.barplot(x=list(model_accuracies.keys()), y=list(model_accuracies.values()))\n",
        "plt.title(\"Perbandingan Akurasi Model\")\n",
        "plt.ylabel(\"Accuracy\")\n",
        "plt.ylim(0, 1)\n",
        "plt.xticks(rotation=30)\n",
        "\n",
        "# Tambahkan label di atas tiap bar\n",
        "for i, v in enumerate(model_accuracies.values()):\n",
        "    plt.text(i, v + 0.01, f\"{v:.2f}\", ha='center', va='bottom', fontsize=10, fontweight='bold')\n",
        "\n",
        "plt.tight_layout()\n",
        "plt.savefig(\"model_comparison_labeled.png\")\n",
        "plt.show()"
      ],
      "metadata": {
        "colab": {
          "base_uri": "https://localhost:8080/",
          "height": 607
        },
        "id": "3GYp0usf1Esf",
        "outputId": "4c20c9be-9a65-44f9-a2b8-1df67720e20b"
      },
      "execution_count": 32,
      "outputs": [
        {
          "output_type": "display_data",
          "data": {
            "text/plain": [
              "<Figure size 1000x600 with 1 Axes>"
            ],
            "image/png": "[encoded data removed]"
          },
          "metadata": {}
        }
      ]
    },
    {
      "cell_type": "code",
      "source": [
        "# ===============================\n",
        "# 17. Menentukan Model Terbaik\n",
        "# ===============================\n",
        "best_model = max(model_accuracies, key=model_accuracies.get)\n",
        "best_accuracy = model_accuracies[best_model]\n",
        "\n",
        "print(f\"\\n✅ Model terbaik adalah: {best_model} dengan akurasi {best_accuracy:.4f}\")"
      ],
      "metadata": {
        "colab": {
          "base_uri": "https://localhost:8080/"
        },
        "id": "f-IaSBCb1Qct",
        "outputId": "dc596dfc-20e3-4698-9b88-d2175905c2f1"
      },
      "execution_count": null,
      "outputs": [
        {
          "output_type": "stream",
          "name": "stdout",
          "text": [
            "\n",
            "✅ Model terbaik adalah: Random Forest dengan akurasi 1.0000\n"
          ]
        }
      ]
    }
  ]
}